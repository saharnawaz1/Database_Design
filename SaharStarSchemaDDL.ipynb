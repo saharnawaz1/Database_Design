{
    "metadata": {
        "kernelspec": {
            "name": "SQL",
            "display_name": "SQL",
            "language": "sql"
        },
        "language_info": {
            "name": "sql",
            "version": ""
        }
    },
    "nbformat_minor": 2,
    "nbformat": 4,
    "cells": [
        {
            "cell_type": "markdown",
            "source": [
                "In my databse design class we used Data Definition Language (DDL) to create a star schema of a database called TargetMart. A star schema is a database design model used in data warehousing where a central fact table is connected to multiple dimension tables in a star-like structure. The fact table contains quantitative data, and dimension tables provide descriptive context, facilitating efficient querying and analysis in business intelligence systems.  \n",
                "\n",
                "**The first step was to create schemas**.  In a database, a **schema** is a logical container that defines the structure and organization of tables, views, and relationships, providing a blueprint for data storage. It includes specifications for tables, columns, constraints, and security configurations."
            ],
            "metadata": {
                "azdata_cell_guid": "a8b753ac-6bfa-43d8-89f5-fcd8391f8a6b"
            },
            "attachments": {}
        },
        {
            "cell_type": "code",
            "source": [
                "USE TargetMart;\r\n",
                "GO\r\n",
                "\r\n",
                "/*********************************************************/\r\n",
                "/******************    Schema DDL       ******************/\r\n",
                "/*********************************************************/\r\n",
                "\r\n",
                "IF NOT EXISTS (SELECT * FROM sys.schemas WHERE name = 'dim' )\r\n",
                "BEGIN\r\n",
                "\tEXEC sp_executesql N'CREATE SCHEMA dim AUTHORIZATION dbo;'\r\n",
                "END\r\n",
                ";\r\n",
                "\r\n",
                "GO\r\n",
                "\r\n",
                "IF NOT EXISTS (SELECT * FROM sys.schemas WHERE name = 'stg' )\r\n",
                "BEGIN\r\n",
                "\tEXEC sp_executesql N'CREATE SCHEMA stg AUTHORIZATION dbo;'\r\n",
                "END\r\n",
                ";\r\n",
                "\r\n",
                "GO\r\n",
                "\r\n",
                "IF NOT EXISTS (SELECT * FROM sys.schemas WHERE name = 'f' )\r\n",
                "BEGIN\r\n",
                "\tEXEC sp_executesql N'CREATE SCHEMA f AUTHORIZATION dbo;'\r\n",
                "END\r\n",
                ";\r\n",
                "\r\n",
                "GO\r\n",
                "\r\n",
                "IF NOT EXISTS (SELECT * FROM sys.schemas WHERE name = 'rpt' ) \r\n",
                "BEGIN\r\n",
                "\tEXEC sp_executesql N'CREATE SCHEMA rpt AUTHORIZATION dbo;'\r\n",
                "END\r\n",
                ";\r\n",
                "\r\n",
                "GO"
            ],
            "metadata": {
                "azdata_cell_guid": "fbfd5a72-71c5-43c6-a861-aa7bd10bce2a",
                "language": "sql"
            },
            "outputs": [
                {
                    "output_type": "display_data",
                    "data": {
                        "text/html": "Commands completed successfully."
                    },
                    "metadata": {}
                },
                {
                    "output_type": "display_data",
                    "data": {
                        "text/html": "Commands completed successfully."
                    },
                    "metadata": {}
                },
                {
                    "output_type": "display_data",
                    "data": {
                        "text/html": "Commands completed successfully."
                    },
                    "metadata": {}
                },
                {
                    "output_type": "display_data",
                    "data": {
                        "text/html": "Commands completed successfully."
                    },
                    "metadata": {}
                },
                {
                    "output_type": "display_data",
                    "data": {
                        "text/html": "Commands completed successfully."
                    },
                    "metadata": {}
                },
                {
                    "output_type": "display_data",
                    "data": {
                        "text/html": "Total execution time: 00:00:00.015"
                    },
                    "metadata": {}
                }
            ],
            "execution_count": 1
        },
        {
            "cell_type": "markdown",
            "source": [
                "The next step was to create **dimension tables** (also known as lookup tables). A dimension table in a relational database stores descriptive attributes about business entities, serving as a reference for context in data warehousing; it is linked to fact tables through foreign keys to provide comprehensive insights into numerical data.\n",
                "\n",
                "We created a total of 5. This SQL script first checks if certain dimension tables (Customers, Calendar, Shipper, Products, and Employees) exist in the specified schema (dim). If any of these tables do not exist, it creates them along with the necessary constraints such as primary keys and unique constraints."
            ],
            "metadata": {
                "azdata_cell_guid": "3942a797-1ac4-427c-b9c8-a5f7f3776a79"
            },
            "attachments": {}
        },
        {
            "cell_type": "code",
            "source": [
                "/*********************************************************/\r\n",
                "/******************  Customer DIM DDL   ******************/\r\n",
                "/*********************************************************/\r\n",
                "\r\n",
                "IF NOT EXISTS (SELECT * FROM INFORMATION_SCHEMA.TABLES WHERE TABLE_SCHEMA = 'dim' AND TABLE_NAME = 'Customers')\r\n",
                "BEGIN\r\n",
                "\tCREATE TABLE dim.Customers(\r\n",
                "\tpkCustomer int IDENTITY(1000,1) NOT NULL,\r\n",
                "\tCustomerID nvarchar(5) NOT NULL,\r\n",
                "\tCustomer nvarchar(40) NOT NULL,\r\n",
                "\tCity nvarchar(15) NULL,\r\n",
                "\tCountry nvarchar(15) NULL,\r\n",
                "\tLoadDate DATE NOT NULL,\r\n",
                "\tSourceCountry nvarchar(25) NULL\r\n",
                "\t)\r\n",
                "\t;\r\n",
                "\r\n",
                "\tALTER TABLE dim.Customers\r\n",
                "\tADD CONSTRAINT PK_Customers_LUP PRIMARY KEY(pkCustomer);\r\n",
                "\r\n",
                "\tALTER TABLE dim.Customers\r\n",
                "    ADD CONSTRAINT UC_Customers_ID UNIQUE (CustomerID);\r\n",
                "\r\n",
                "END\r\n",
                "\r\n",
                "GO\r\n",
                "\r\n",
                "/*********************************************************/\r\n",
                "/****************** Calendar DIM Script ******************/\r\n",
                "/*********************************************************/\r\n",
                "\r\n",
                "IF NOT EXISTS (SELECT * FROM INFORMATION_SCHEMA.TABLES WHERE TABLE_SCHEMA = 'dim' AND TABLE_NAME = 'Calendar')\r\n",
                "BEGIN\r\n",
                "-- Create the Calendar table\r\n",
                "CREATE TABLE dim.Calendar\r\n",
                "(\r\n",
                "    pkCalendar INT NOT NULL,\r\n",
                "    DateValue DATE NOT NULL,\r\n",
                "    Year INT NOT NULL,\r\n",
                "    Quarter INT NOT NULL,\r\n",
                "\tQtr VARCHAR(3) NOT NULL,\r\n",
                "    Month INT NOT NULL,\r\n",
                "    MonthName VARCHAR(10) NOT NULL,\r\n",
                "\tMonthShort VARCHAR(3) NOT NULL,\r\n",
                "    Week INT NOT NULL,\r\n",
                "    Day INT NOT NULL,\r\n",
                "\tDayName VARCHAR(10) NOT NULL,\r\n",
                "\tDayShort VARCHAR(3) NOT NULL,\r\n",
                "    IsWeekday BIT NOT NULL,\r\n",
                "\tWeekday VARCHAR(3) NOT NULL\r\n",
                ");\r\n",
                "\r\n",
                "\tALTER TABLE dim.Calendar\r\n",
                "\tADD CONSTRAINT PK_Calendar_Julian PRIMARY KEY(pkCalendar);\r\n",
                "\r\n",
                "\tALTER TABLE dim.Calendar\r\n",
                "    ADD CONSTRAINT UC_Calendar UNIQUE (DateValue);\r\n",
                "END\r\n",
                "\r\n",
                "GO\r\n",
                "\r\n",
                "/*********************************************************/\r\n",
                "/******************  Shipper DIM DDL    ******************/\r\n",
                "/*********************************************************/\r\n",
                "\r\n",
                "IF NOT EXISTS (SELECT * FROM INFORMATION_SCHEMA.TABLES WHERE TABLE_SCHEMA = 'dim' AND TABLE_NAME = 'Shipper')\r\n",
                "BEGIN\r\n",
                "-- Create the Calendar table\r\n",
                "CREATE TABLE dim.Shipper\r\n",
                "(\r\n",
                "    pkShipId INT NOT NULL,\r\n",
                "\tShipper nvarchar(40) NOT NULL,\r\n",
                "\tPhone nvarchar(24) NULL\r\n",
                ");\r\n",
                "\r\n",
                "\tALTER TABLE dim.Shipper\r\n",
                "\tADD CONSTRAINT PK_Ship PRIMARY KEY(pkShipId);\r\n",
                "END\r\n",
                "\r\n",
                "GO\r\n",
                "\r\n",
                "/*********************************************************/\r\n",
                "/******************  Products DIM DDL   ******************/\r\n",
                "/*********************************************************/\r\n",
                "\r\n",
                "IF NOT EXISTS (SELECT * FROM INFORMATION_SCHEMA.TABLES WHERE TABLE_SCHEMA = 'dim' AND TABLE_NAME = 'Products')\r\n",
                "BEGIN\r\n",
                "CREATE TABLE dim.Products(\r\n",
                "\tpkProdId int NOT NULL,\r\n",
                "\tProductId int NOT NULL,\r\n",
                "\tProduct nvarchar(50) NOT NULL,\r\n",
                "\tProductCategory nvarchar(25) NOT NULL,\r\n",
                "\tCategoryDesc ntext NULL,\r\n",
                "\tUnitPrice money NULL,\r\n",
                "\tUnitsInStock int NULL,\r\n",
                "\tUnitsOnOrder int NULL,\r\n",
                "\tReorderLevel int NULL,\r\n",
                "\tDiscontinued bit NOT NULL,\r\n",
                "\tReorderFlag nvarchar(3) NOT NULL\r\n",
                ");\r\n",
                "\r\n",
                "\tALTER TABLE dim.Products\r\n",
                "\tADD CONSTRAINT PK_Prods PRIMARY KEY(pkProdId);\r\n",
                "\r\n",
                "\tALTER TABLE dim.Products\r\n",
                "    ADD CONSTRAINT UC_Prods UNIQUE (ProductId);\r\n",
                "END\r\n",
                ";\r\n",
                "GO\r\n",
                "\r\n",
                "/*********************************************************/\r\n",
                "/******************  Employees DIM DDL   ******************/\r\n",
                "/*********************************************************/\r\n",
                "\r\n",
                "IF NOT EXISTS (SELECT * FROM INFORMATION_SCHEMA.TABLES WHERE TABLE_SCHEMA = 'dim' AND TABLE_NAME = 'Employees')\r\n",
                "BEGIN\r\n",
                "CREATE TABLE dim.Employees(\r\n",
                "\tEmployeeID int NOT NULL,\r\n",
                "\tEmployee nvarchar(50) NOT NULL,\r\n",
                "\tTitle nvarchar(30) NULL,\r\n",
                "\tBirthDate datetime NULL,\r\n",
                "\tHireDate datetime NULL,\r\n",
                "\tCity nvarchar(15) NULL,\r\n",
                "\tCountry nvarchar(15) NULL,\r\n",
                "\tReportsTo int NULL\r\n",
                ");\r\n",
                "\tALTER TABLE dim.Employees\r\n",
                "\tADD CONSTRAINT PK_Emp PRIMARY KEY(EmployeeID);\r\n",
                "\r\n",
                "END\r\n",
                "\r\n",
                "GO"
            ],
            "metadata": {
                "azdata_cell_guid": "6c414034-c249-41c0-8833-3cae63672719",
                "language": "sql"
            },
            "outputs": [
                {
                    "output_type": "display_data",
                    "data": {
                        "text/html": "Commands completed successfully."
                    },
                    "metadata": {}
                },
                {
                    "output_type": "display_data",
                    "data": {
                        "text/html": "Commands completed successfully."
                    },
                    "metadata": {}
                },
                {
                    "output_type": "display_data",
                    "data": {
                        "text/html": "Commands completed successfully."
                    },
                    "metadata": {}
                },
                {
                    "output_type": "display_data",
                    "data": {
                        "text/html": "Commands completed successfully."
                    },
                    "metadata": {}
                },
                {
                    "output_type": "display_data",
                    "data": {
                        "text/html": "Commands completed successfully."
                    },
                    "metadata": {}
                },
                {
                    "output_type": "display_data",
                    "data": {
                        "text/html": "Total execution time: 00:00:00.111"
                    },
                    "metadata": {}
                }
            ],
            "execution_count": 2
        },
        {
            "cell_type": "markdown",
            "source": [
                "Finally, we this SQL script is responsible for building two **fact tables**, namely OrderPerf and ProductPerf, within the schema 'f'. A fact table in a relational database stores quantitative and numerical data, typically representing business transactions or events, and is associated with dimension tables through foreign keys to provide a comprehensive view for analysis in data warehousing.\n",
                "\n",
                "In essence, this script ensures the creation of two fact tables (OrderPerf and ProductPerf) in the 'f' schema, defining their structure and establishing relationships with dimension tables. The use of foreign key constraints maintains referential integrity, ensuring that the fact tables are properly linked to the related dimension tables."
            ],
            "metadata": {
                "azdata_cell_guid": "d5654187-d98a-42ea-9ca7-a020e75a4bb6"
            },
            "attachments": {}
        },
        {
            "cell_type": "code",
            "source": [
                "/*********************************************************/\r\n",
                "/*********************************************************/\r\n",
                "/*********************************************************/\r\n",
                "/******************  Fact Table Builds  ******************/\r\n",
                "/*********************************************************/\r\n",
                "/*********************************************************/\r\n",
                "/*********************************************************/\r\n",
                "\r\n",
                "\r\n",
                "\r\n",
                "/*********************************************************/\r\n",
                "/******************  OrderPerf f.Table  ******************/\r\n",
                "/*********************************************************/\r\n",
                "\r\n",
                "-- OrderID, OrderDate, Customer, Freight(f)\r\n",
                "IF EXISTS (SELECT * FROM INFORMATION_SCHEMA.TABLES WHERE TABLE_SCHEMA = 'f' AND TABLE_NAME = 'OrderPerf')\r\n",
                "BEGIN\r\n",
                "\tDROP TABLE f.OrderPerf;\r\n",
                "END\r\n",
                "\r\n",
                "GO\r\n",
                "\r\n",
                "CREATE TABLE f.OrderPerf(\r\n",
                "\tOrderID int NOT NULL,\r\n",
                "\tfkCalendar int NOT NULL,\r\n",
                "\tfkCustomer int NOT NULL,\r\n",
                "\tfkShipper int NULL,\r\n",
                "\tfkEmployee int NULL,\r\n",
                "\tFreight money NOT NULL,\r\n",
                "\tDaysToShip int NULL,\r\n",
                "\tDaysTilRequired int NULL,\r\n",
                "\tOrderCount int NOT NULL\r\n",
                ");\r\n",
                "\r\n",
                "-- Could use PRIMARY or UNIQUE for the OrderID - just used to not load dupes = doublecounting\r\n",
                "\r\n",
                "ALTER TABLE f.OrderPerf\r\n",
                "ADD CONSTRAINT PK_ORD PRIMARY KEY(OrderID)\r\n",
                ";\r\n",
                "\r\n",
                "ALTER TABLE f.OrderPerf\r\n",
                "ADD CONSTRAINT FK_ORDtoCAL\r\n",
                "\tFOREIGN KEY (fkCalendar)              -- FROM the LOCAL TABLE\r\n",
                "\t REFERENCES  dim.Calendar(pkCalendar) -- TO the FOREIGN TABLE\r\n",
                ";\r\n",
                "\r\n",
                "ALTER TABLE f.OrderPerf\r\n",
                "ADD CONSTRAINT FK_ORDtoCUST\r\n",
                "\tFOREIGN KEY (fkCustomer)              -- FROM the LOCAL TABLE\r\n",
                "\t REFERENCES  dim.Customers(pkCustomer) -- TO the FOREIGN TABLE\r\n",
                ";\r\n",
                "\r\n",
                "ALTER TABLE f.OrderPerf\r\n",
                "ADD CONSTRAINT FK_ORDtoSHIP\r\n",
                "\tFOREIGN KEY (fkShipper)\r\n",
                "\t REFERENCES dim.Shipper(pkShipId)\r\n",
                ";\r\n",
                "\r\n",
                "ALTER TABLE f.OrderPerf\r\n",
                "ADD CONSTRAINT FK_ORDtoEMP\r\n",
                "\tFOREIGN KEY (fkEmployee)\r\n",
                "\t REFERENCES dim.Employees(EmployeeID)\r\n",
                ";\r\n",
                "\r\n",
                "/************************************************************/\r\n",
                "/******************  ProductsPerf f.Table  ******************/\r\n",
                "/************************************************************/\r\n",
                "\r\n",
                "IF EXISTS (SELECT * FROM INFORMATION_SCHEMA.TABLES WHERE TABLE_SCHEMA = 'f' AND TABLE_NAME = 'ProductPerf')\r\n",
                "BEGIN\r\n",
                "\tDROP TABLE f.ProductPerf;\r\n",
                "END\r\n",
                "\r\n",
                "CREATE TABLE f.ProductPerf(\r\n",
                "\tOrderID int NOT NULL,\r\n",
                "\tfkProductID int NOT NULL,\r\n",
                "\tOrderDate int NOT NULL,\r\n",
                "\tfkCustomerID int NOT NULL,\r\n",
                "\tUnitPrice money NOT NULL,\r\n",
                "\tQuantity smallint NOT NULL,\r\n",
                "\tDiscount float NOT NULL,\r\n",
                "\tDiscFlag int NOT NULL,\r\n",
                "\tLineTotal money NULL\r\n",
                ");\r\n",
                "\r\n",
                "ALTER TABLE f.ProductPerf\r\n",
                "ADD CONSTRAINT PK_ProdPerf PRIMARY KEY(OrderID, fkProductID)\r\n",
                ";\r\n",
                "\r\n",
                "ALTER TABLE f.ProductPerf\r\n",
                "ADD CONSTRAINT FK_PRODtoPROD\r\n",
                "\tFOREIGN KEY (fkProductID)\r\n",
                "\t REFERENCES dim.Products(pkProdId)\r\n",
                ";\r\n",
                "\r\n",
                "ALTER TABLE f.ProductPerf\r\n",
                "ADD CONSTRAINT FK_PRODtoCAL\r\n",
                "\tFOREIGN KEY (OrderDate)\r\n",
                "\t REFERENCES dim.Calendar(pkCalendar)\r\n",
                ";\r\n",
                "\r\n",
                "ALTER TABLE f.ProductPerf\r\n",
                "ADD CONSTRAINT FK_PRODtoCUST\r\n",
                "\tFOREIGN KEY (fkCustomerID)\r\n",
                "\t REFERENCES dim.Customers(pkCustomer)\r\n",
                ";\r\n",
                ""
            ],
            "metadata": {
                "azdata_cell_guid": "d6ca31b0-1157-4a47-ab4f-c48faba201f4",
                "language": "sql"
            },
            "outputs": [
                {
                    "output_type": "display_data",
                    "data": {
                        "text/html": "Commands completed successfully."
                    },
                    "metadata": {}
                },
                {
                    "output_type": "display_data",
                    "data": {
                        "text/html": "Commands completed successfully."
                    },
                    "metadata": {}
                },
                {
                    "output_type": "display_data",
                    "data": {
                        "text/html": "Total execution time: 00:00:00.053"
                    },
                    "metadata": {}
                }
            ],
            "execution_count": 3
        }
    ]
}